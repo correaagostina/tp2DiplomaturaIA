{
 "cells": [
  {
   "cell_type": "markdown",
   "metadata": {
    "id": "AjMRegL_PWUx"
   },
   "source": [
    "Instalar la librería Numpy"
   ]
  },
  {
   "cell_type": "code",
   "execution_count": null,
   "metadata": {
    "id": "DTBOuN75r6Hh"
   },
   "outputs": [
    {
     "ename": "SyntaxError",
     "evalue": "invalid syntax (3638225874.py, line 1)",
     "output_type": "error",
     "traceback": [
      "  \u001b[36mCell\u001b[39m\u001b[36m \u001b[39m\u001b[32mIn[3]\u001b[39m\u001b[32m, line 1\u001b[39m\n\u001b[31m    \u001b[39m\u001b[31mpip install numpy\u001b[39m\n        ^\n\u001b[31mSyntaxError\u001b[39m\u001b[31m:\u001b[39m invalid syntax\n"
     ]
    }
   ],
   "source": [
    "pip install numpy"
   ]
  },
  {
   "cell_type": "markdown",
   "metadata": {
    "id": "mEQD47SqqIme"
   },
   "source": [
    "Importar Librerías numpy y pandas\n"
   ]
  },
  {
   "cell_type": "code",
   "execution_count": 2,
   "metadata": {
    "id": "pa9bbh4oWoPS"
   },
   "outputs": [],
   "source": [
    "import numpy as np\n",
    "import pandas as pd"
   ]
  },
  {
   "cell_type": "markdown",
   "metadata": {
    "id": "yx4MRIKqLGTx"
   },
   "source": [
    "Declarar una variable y asignarle un valor numérico.\n",
    "Elaborar una estructura de control, utilizando if then.. else if.. else."
   ]
  },
  {
   "cell_type": "code",
   "execution_count": 5,
   "metadata": {
    "id": "0loPUE_7WpDb"
   },
   "outputs": [
    {
     "name": "stdout",
     "output_type": "stream",
     "text": [
      "Es mayor a 5\n",
      "Prueba es:  10\n"
     ]
    }
   ],
   "source": [
    "prueba = 10\n",
    "if prueba > 5:\n",
    "    print(\"Es mayor a 5\")\n",
    "elif prueba == 5:\n",
    "    print(\"Es igual a 5\")\n",
    "else:\n",
    "    print(\"Es menor a 5\")\n",
    "\n",
    "print(\"Prueba es: \",prueba)"
   ]
  },
  {
   "cell_type": "markdown",
   "metadata": {
    "id": "ekpbqXBSLcJQ"
   },
   "source": [
    "Crear una función que devuelva la suma de 3 números enteros."
   ]
  },
  {
   "cell_type": "code",
   "execution_count": 6,
   "metadata": {
    "id": "YyMqY1WvkK8h"
   },
   "outputs": [],
   "source": [
    "def funcion_suma(a, b, c):\n",
    "    return a + b + c"
   ]
  },
  {
   "cell_type": "markdown",
   "metadata": {
    "id": "HUCvwLNvLnSW"
   },
   "source": [
    "Llamar a la función que suma 3 números enteros."
   ]
  },
  {
   "cell_type": "code",
   "execution_count": 7,
   "metadata": {
    "id": "RwI_szVmfaiv"
   },
   "outputs": [
    {
     "data": {
      "text/plain": [
       "6"
      ]
     },
     "execution_count": 7,
     "metadata": {},
     "output_type": "execute_result"
    }
   ],
   "source": [
    "funcion_suma(1, 2, 3)"
   ]
  },
  {
   "cell_type": "markdown",
   "metadata": {
    "id": "pGhyxVxfLuvP"
   },
   "source": [
    "Llamar a la función que suma 3 números enteros, pero pasar argumentos de tipo \"string\""
   ]
  },
  {
   "cell_type": "code",
   "execution_count": 8,
   "metadata": {
    "id": "XxY7cl3pkQ24"
   },
   "outputs": [
    {
     "data": {
      "text/plain": [
       "'Prueba de texto'"
      ]
     },
     "execution_count": 8,
     "metadata": {},
     "output_type": "execute_result"
    }
   ],
   "source": [
    "funcion_suma(\"Prueba\", \" de\", \" texto\")"
   ]
  },
  {
   "cell_type": "markdown",
   "metadata": {
    "id": "PpTQOwBDnOsD"
   },
   "source": [
    "Un inversor financiero está interesado en invertir en la compañía. Se propone comprar durante cada día de la semana 20 acciones. También sabe que la probabilidad de obtener ganancias (aproximadamente 15% en cada inversión) es de 0.56 y la probabilidad de perder el 18% es 0.44 (Solo hay esas dos opciones).\n",
    "Crear una función llamada retorno_semanal que calcule el valor esperado con la cantidad de acciones compradas cada día, probabilidad de ganancia y no ganancia"
   ]
  },
  {
   "cell_type": "code",
   "execution_count": null,
   "metadata": {
    "id": "cqYmy9swmU4v"
   },
   "outputs": [],
   "source": [
    "valores= [200, 225, 232, 221, 243, 256, 255]"
   ]
  },
  {
   "cell_type": "code",
   "execution_count": null,
   "metadata": {
    "id": "fw5S2HSTS15V"
   },
   "outputs": [],
   "source": []
  },
  {
   "cell_type": "code",
   "execution_count": null,
   "metadata": {
    "id": "b7MgIQW9S2Oh"
   },
   "outputs": [],
   "source": []
  },
  {
   "cell_type": "markdown",
   "metadata": {
    "id": "_G1oIXdyO7i2"
   },
   "source": [
    "Crear una variable, asignar valor \"None\""
   ]
  },
  {
   "cell_type": "code",
   "execution_count": 11,
   "metadata": {
    "id": "e4iOOW6lqnUb"
   },
   "outputs": [],
   "source": [
    "var = None"
   ]
  },
  {
   "cell_type": "markdown",
   "metadata": {
    "id": "vZ-v9V4SPD80"
   },
   "source": [
    "Imprimir la variable cuyo valor es \"None\""
   ]
  },
  {
   "cell_type": "code",
   "execution_count": 12,
   "metadata": {
    "id": "zuzXdYuaS-_l"
   },
   "outputs": [
    {
     "name": "stdout",
     "output_type": "stream",
     "text": [
      "None\n"
     ]
    }
   ],
   "source": [
    "print(var)"
   ]
  },
  {
   "cell_type": "markdown",
   "metadata": {
    "id": "MgSCFNaLPLma"
   },
   "source": [
    "Crear un arreglo, con valores de distinto tipo (numérico y texto), luego mostrar el contenido del arreglo."
   ]
  },
  {
   "cell_type": "code",
   "execution_count": 13,
   "metadata": {
    "id": "p1DEhNL2rjWP"
   },
   "outputs": [
    {
     "name": "stdout",
     "output_type": "stream",
     "text": [
      "[1, 'uno', 2, 'dos']\n"
     ]
    }
   ],
   "source": [
    "arreglo = [1, \"uno\", 2, \"dos\"];    \n",
    "print(arreglo)"
   ]
  },
  {
   "cell_type": "markdown",
   "metadata": {
    "id": "2d53G0c4Pf8P"
   },
   "source": [
    "# Numpy\n",
    "Importar la librería Numpy, con el alias np"
   ]
  },
  {
   "cell_type": "code",
   "execution_count": 1,
   "metadata": {
    "id": "HXZhqyWHsCGp"
   },
   "outputs": [],
   "source": [
    "import numpy as np"
   ]
  },
  {
   "cell_type": "markdown",
   "metadata": {
    "id": "PBSWl09vPmjs"
   },
   "source": [
    "Crear un arreglo con valores numéricos del 0 al 9. Mostrar el contenido del arreglo."
   ]
  },
  {
   "cell_type": "code",
   "execution_count": 2,
   "metadata": {
    "id": "nl6h3ZUCsORR"
   },
   "outputs": [
    {
     "name": "stdout",
     "output_type": "stream",
     "text": [
      "[1 2 3 4 5 7 8 9]\n"
     ]
    }
   ],
   "source": [
    "arreglo = np.array([1, 2, 3, 4, 5, 7 ,8 ,9])\n",
    "print(arreglo)"
   ]
  },
  {
   "cell_type": "markdown",
   "metadata": {
    "id": "pG968IulPxZO"
   },
   "source": [
    "Crear un arreglo con n-valores numéricos 0. Mostrar el contenido del arreglo."
   ]
  },
  {
   "cell_type": "code",
   "execution_count": 15,
   "metadata": {
    "id": "c14yKsN9sOR_"
   },
   "outputs": [
    {
     "name": "stdout",
     "output_type": "stream",
     "text": [
      "[0. 0. 0. 0. 0. 0. 0. 0. 0. 0.]\n"
     ]
    }
   ],
   "source": [
    "import random\n",
    "\n",
    "\n",
    "arreglo_ceros = np.zeros(random.randint(1,10))\n",
    "print(arreglo_ceros)"
   ]
  },
  {
   "cell_type": "markdown",
   "metadata": {
    "id": "sB16PO2uP8CT"
   },
   "source": [
    "Crear un arreglo con n-valores numéricos 1. Mostrar el contenido del arreglo."
   ]
  },
  {
   "cell_type": "code",
   "execution_count": 17,
   "metadata": {
    "id": "Tq52VvX3swFf"
   },
   "outputs": [
    {
     "name": "stdout",
     "output_type": "stream",
     "text": [
      "[1. 1. 1. 1. 1. 1. 1. 1.]\n"
     ]
    }
   ],
   "source": [
    "arreglo_unos = np.ones(random.randint(1,10))\n",
    "print(arreglo_unos)"
   ]
  },
  {
   "cell_type": "markdown",
   "metadata": {
    "id": "-M2VmSJXP_cX"
   },
   "source": [
    "Crear un arreglo con n-valores numéricos, definiendo el número que se va a guardar. Mostrar el contenido del arreglo."
   ]
  },
  {
   "cell_type": "code",
   "execution_count": 21,
   "metadata": {
    "id": "NfvE_JSfswGi"
   },
   "outputs": [
    {
     "name": "stdout",
     "output_type": "stream",
     "text": [
      "[7 7 7 7 7 7 7]\n"
     ]
    }
   ],
   "source": [
    "arreglo = np.full(random.randint(1,10), 7)\n",
    "print(arreglo)"
   ]
  },
  {
   "cell_type": "markdown",
   "metadata": {
    "id": "PGTJ0ibCQHKp"
   },
   "source": [
    "Crear un arreglo con valores numéricos del 0 al 9 (con arange). Mostrar el contenido del arreglo."
   ]
  },
  {
   "cell_type": "code",
   "execution_count": 49,
   "metadata": {
    "id": "jSIQzKkPs8Nn"
   },
   "outputs": [
    {
     "name": "stdout",
     "output_type": "stream",
     "text": [
      "[0 1 2 3 4 5 6 7 8 9]\n"
     ]
    }
   ],
   "source": [
    "arreglo_valores = np.arange(10)\n",
    "print(arreglo_valores)"
   ]
  },
  {
   "cell_type": "markdown",
   "metadata": {
    "id": "yyzpkE4jQTns"
   },
   "source": [
    "Crear un arreglo matricial de 2 x 3, con valores numéricos random de 0 .. 9. Mostrar el contenido del arreglo."
   ]
  },
  {
   "cell_type": "code",
   "execution_count": 26,
   "metadata": {
    "id": "rVaeAkfHtBte"
   },
   "outputs": [
    {
     "name": "stdout",
     "output_type": "stream",
     "text": [
      "[[0 8 3]\n",
      " [1 6 5]]\n"
     ]
    }
   ],
   "source": [
    "arreglo = np.random.randint(10, size=(2, 3))\n",
    "print(arreglo)"
   ]
  },
  {
   "cell_type": "markdown",
   "metadata": {
    "id": "3LUdCtw3Qk52"
   },
   "source": [
    "Crear un arreglo matricial de 2 x 7, con valores numéricos random de 0 .. 99. Mostrar el contenido del arreglo."
   ]
  },
  {
   "cell_type": "code",
   "execution_count": 34,
   "metadata": {
    "id": "hddY_wCltW3t"
   },
   "outputs": [
    {
     "name": "stdout",
     "output_type": "stream",
     "text": [
      "[[54 15 91 84  8 51 17]\n",
      " [49 81  0  7 94 14 24]]\n"
     ]
    }
   ],
   "source": [
    "matriz = np.random.randint(100, size=(2, 7),dtype=int)\n",
    "print(matriz)"
   ]
  },
  {
   "cell_type": "markdown",
   "metadata": {
    "id": "eS56oyIJQp_4"
   },
   "source": [
    "Mostrar la dimensión de la matriz."
   ]
  },
  {
   "cell_type": "code",
   "execution_count": 35,
   "metadata": {
    "id": "kg6u-uSptaK1"
   },
   "outputs": [
    {
     "name": "stdout",
     "output_type": "stream",
     "text": [
      "2\n"
     ]
    }
   ],
   "source": [
    "print(matriz.ndim)"
   ]
  },
  {
   "cell_type": "markdown",
   "metadata": {
    "id": "H65u1zcAQtcj"
   },
   "source": [
    "Mostrar la forma de la matriz (cuántas filas y cuántas columnas)"
   ]
  },
  {
   "cell_type": "code",
   "execution_count": 31,
   "metadata": {
    "id": "2pVxF_dZtdJg"
   },
   "outputs": [
    {
     "name": "stdout",
     "output_type": "stream",
     "text": [
      "(2, 7)\n"
     ]
    }
   ],
   "source": [
    "print(matriz.shape)"
   ]
  },
  {
   "cell_type": "markdown",
   "metadata": {
    "id": "dqASBXKPQyQ0"
   },
   "source": [
    "Mostrar el tamaño (cantidad de elementos) de la matriz."
   ]
  },
  {
   "cell_type": "code",
   "execution_count": 36,
   "metadata": {
    "id": "DWa4MIbctgl-"
   },
   "outputs": [
    {
     "name": "stdout",
     "output_type": "stream",
     "text": [
      "14\n"
     ]
    }
   ],
   "source": [
    "print(matriz.size)"
   ]
  },
  {
   "cell_type": "markdown",
   "metadata": {
    "id": "qpO1hf6cQ4DC"
   },
   "source": [
    "Mostrar el tipo de elementos de los valores de la matriz."
   ]
  },
  {
   "cell_type": "code",
   "execution_count": 37,
   "metadata": {
    "id": "CEzOWny3tvKl"
   },
   "outputs": [
    {
     "name": "stdout",
     "output_type": "stream",
     "text": [
      "int32\n"
     ]
    }
   ],
   "source": [
    "print(matriz.dtype)"
   ]
  },
  {
   "cell_type": "markdown",
   "metadata": {
    "id": "hU6jWCWXQ9Hn"
   },
   "source": [
    "Mostrar el espacio en memoria que ocupa cada elemento de la matriz."
   ]
  },
  {
   "cell_type": "code",
   "execution_count": 38,
   "metadata": {
    "id": "vEAE2IVytyNi"
   },
   "outputs": [
    {
     "name": "stdout",
     "output_type": "stream",
     "text": [
      "4\n"
     ]
    }
   ],
   "source": [
    "print(matriz.itemsize)"
   ]
  },
  {
   "cell_type": "markdown",
   "metadata": {
    "id": "SFt0WrSBRDiZ"
   },
   "source": [
    "Mostrar el tamaño en bytes de la matriz."
   ]
  },
  {
   "cell_type": "code",
   "execution_count": 39,
   "metadata": {
    "id": "cORCVkYxuBXM"
   },
   "outputs": [
    {
     "name": "stdout",
     "output_type": "stream",
     "text": [
      "56\n"
     ]
    }
   ],
   "source": [
    "print(matriz.nbytes)"
   ]
  },
  {
   "cell_type": "markdown",
   "metadata": {
    "id": "pa8vGMgLRIjS"
   },
   "source": [
    "Mostrar el elemento de la fila 2, columna 5"
   ]
  },
  {
   "cell_type": "code",
   "execution_count": 43,
   "metadata": {
    "id": "BGMkhnjXuHRP"
   },
   "outputs": [
    {
     "name": "stdout",
     "output_type": "stream",
     "text": [
      "14\n"
     ]
    }
   ],
   "source": [
    "print(matriz[1, 5])  # Elemento en la fila 2, columna 3 (índices comienzan en 0)"
   ]
  },
  {
   "cell_type": "markdown",
   "metadata": {
    "id": "MWalM9wrRRZz"
   },
   "source": [
    "Usar el arreglo con valores numéricos del 0 al 9.\n",
    "Para ese arreglo, mostrar los elementos pares, comenzando desde la posición inicial."
   ]
  },
  {
   "cell_type": "code",
   "execution_count": 50,
   "metadata": {
    "id": "iX0vzG6PuoUq"
   },
   "outputs": [
    {
     "name": "stdout",
     "output_type": "stream",
     "text": [
      "[0 2 4 6 8]\n"
     ]
    }
   ],
   "source": [
    "print(arreglo_valores[::2])"
   ]
  },
  {
   "cell_type": "markdown",
   "metadata": {
    "id": "u0ks_4n0Rvgt"
   },
   "source": [
    "# Pandas\n",
    "Importar la librería Pandas, con el alias pd"
   ]
  },
  {
   "cell_type": "code",
   "execution_count": 3,
   "metadata": {
    "id": "-gUeOr8Fzpzf"
   },
   "outputs": [],
   "source": [
    "import pandas as pd\n",
    "import numpy as np"
   ]
  },
  {
   "cell_type": "markdown",
   "metadata": {
    "id": "vgpyH66ASMld"
   },
   "source": [
    "Crear un arreglo con valores numéricos del 0 al 9. Mostrar el contenido del arreglo."
   ]
  },
  {
   "cell_type": "code",
   "execution_count": 6,
   "metadata": {
    "id": "pMdV072ezrwA"
   },
   "outputs": [
    {
     "name": "stdout",
     "output_type": "stream",
     "text": [
      "[4 2 9 4 2 3 8 2 1 9]\n"
     ]
    }
   ],
   "source": [
    "arreglo = np.random.randint(10, size=(10),dtype=int)\n",
    "print(arreglo)\n"
   ]
  },
  {
   "cell_type": "markdown",
   "metadata": {
    "id": "FU8gkNH-SSw2"
   },
   "source": [
    "Dado el siguiente set de datos:\n",
    "\n",
    "Columnas = \"A\", \"B\" y \"C\"\n",
    "Valores para cada columna = [1, 2, 3, 4, 5], [10, 20, 30, 40, 50], [1, 8 , 6 ,7 ,6]\n",
    "\n",
    "Organizarlos en un data frame Pandas."
   ]
  },
  {
   "cell_type": "code",
   "execution_count": 7,
   "metadata": {
    "id": "hlDdtuztz_5y"
   },
   "outputs": [
    {
     "name": "stdout",
     "output_type": "stream",
     "text": [
      "   A   B  C\n",
      "0  1  10  1\n",
      "1  2  20  8\n",
      "2  3  30  6\n",
      "3  4  40  7\n",
      "4  5  50  6\n"
     ]
    }
   ],
   "source": [
    "data = {'A': [1, 2, 3, 4, 5], 'B': [10, 20, 30, 40, 50], 'C': [1, 8 , 6 ,7 ,6]}\n",
    "df = pd.DataFrame(data)\n",
    "print(df)"
   ]
  },
  {
   "cell_type": "markdown",
   "metadata": {
    "id": "maP9Q21sSm6r"
   },
   "source": [
    "Mostrar el data frame Pandas creado en el paso anterior."
   ]
  },
  {
   "cell_type": "code",
   "execution_count": 9,
   "metadata": {
    "id": "fbsbpH7u1OaV"
   },
   "outputs": [
    {
     "name": "stdout",
     "output_type": "stream",
     "text": [
      "   A   B  C\n",
      "0  1  10  1\n",
      "1  2  20  8\n",
      "2  3  30  6\n",
      "3  4  40  7\n",
      "4  5  50  6\n"
     ]
    }
   ],
   "source": [
    "print(df)"
   ]
  },
  {
   "cell_type": "markdown",
   "metadata": {
    "id": "LY8dXHsHTKH2"
   },
   "source": [
    "Enumerar las columnas del data frame."
   ]
  },
  {
   "cell_type": "code",
   "execution_count": 12,
   "metadata": {
    "id": "Jq4Hi9Np0Ttj"
   },
   "outputs": [
    {
     "name": "stdout",
     "output_type": "stream",
     "text": [
      "Index(['A', 'B', 'C'], dtype='object')\n"
     ]
    }
   ],
   "source": [
    "print(df.columns)"
   ]
  },
  {
   "cell_type": "markdown",
   "metadata": {
    "id": "8dTomRhRTPKc"
   },
   "source": [
    "Enumerar los índices del data frame."
   ]
  },
  {
   "cell_type": "code",
   "execution_count": 11,
   "metadata": {
    "id": "8rIdZImR0oXf"
   },
   "outputs": [
    {
     "name": "stdout",
     "output_type": "stream",
     "text": [
      "RangeIndex(start=0, stop=5, step=1)\n"
     ]
    }
   ],
   "source": [
    "print(df.index)"
   ]
  },
  {
   "cell_type": "markdown",
   "metadata": {
    "id": "rSiunp6dTWk-"
   },
   "source": [
    "Mostrar los valores de todas las columnas, para la fila 1, como arreglo."
   ]
  },
  {
   "cell_type": "code",
   "execution_count": 14,
   "metadata": {
    "id": "SPNVK3-O0p-m"
   },
   "outputs": [
    {
     "name": "stdout",
     "output_type": "stream",
     "text": [
      "[ 1 10  1]\n"
     ]
    }
   ],
   "source": [
    "print(df.iloc[0].values)  # Mostrar la primera fila"
   ]
  },
  {
   "cell_type": "markdown",
   "metadata": {
    "id": "3_nzvKAhTccL"
   },
   "source": [
    "Mostrar los valores de todas las columnas, para la fila 2, como arreglo Pandas."
   ]
  },
  {
   "cell_type": "code",
   "execution_count": 15,
   "metadata": {
    "id": "eZzX1XyL03HY"
   },
   "outputs": [
    {
     "name": "stdout",
     "output_type": "stream",
     "text": [
      "A     1\n",
      "B    10\n",
      "C     1\n",
      "Name: 0, dtype: int64\n"
     ]
    }
   ],
   "source": [
    "print(df.iloc[0]) "
   ]
  },
  {
   "cell_type": "markdown",
   "metadata": {
    "id": "BfgoL10RUBvE"
   },
   "source": [
    "Mostrar la columna \"B\", y los índices menores que 3."
   ]
  },
  {
   "cell_type": "code",
   "execution_count": 16,
   "metadata": {
    "id": "1NUo6Pb11C7V"
   },
   "outputs": [
    {
     "name": "stdout",
     "output_type": "stream",
     "text": [
      "0    10\n",
      "1    20\n",
      "2    30\n",
      "Name: B, dtype: int64\n"
     ]
    }
   ],
   "source": [
    "print(df.loc[df.index<3, \"B\"])"
   ]
  },
  {
   "cell_type": "markdown",
   "metadata": {
    "id": "1YXZao6lUR7J"
   },
   "source": [
    "Re-escribir el filtro, anidando en un sólo bloque."
   ]
  },
  {
   "cell_type": "code",
   "execution_count": 17,
   "metadata": {
    "id": "Wzfj-vjk1hBH"
   },
   "outputs": [
    {
     "name": "stdout",
     "output_type": "stream",
     "text": [
      "0    10\n",
      "1    20\n",
      "2    30\n",
      "Name: B, dtype: int64\n"
     ]
    }
   ],
   "source": [
    "print(df[df.index < 3][\"B\"])"
   ]
  },
  {
   "cell_type": "markdown",
   "metadata": {
    "id": "eIMSsDdBUtj2"
   },
   "source": [
    "Trasponer el data frame."
   ]
  },
  {
   "cell_type": "code",
   "execution_count": null,
   "metadata": {
    "id": "Nt_7dmHq2Ivo"
   },
   "outputs": [
    {
     "name": "stdout",
     "output_type": "stream",
     "text": [
      "    0   1   2   3   4\n",
      "A   1   2   3   4   5\n",
      "B  10  20  30  40  50\n",
      "C   1   8   6   7   6\n"
     ]
    }
   ],
   "source": [
    "dfT = df.T\n",
    "print(dfT)"
   ]
  },
  {
   "cell_type": "markdown",
   "metadata": {
    "id": "ZbZwpt8pVAUD"
   },
   "source": [
    "Obtener un dataframe, a partir de la suma de las columnas A y B del dataframe anterior."
   ]
  },
  {
   "cell_type": "code",
   "execution_count": null,
   "metadata": {
    "colab": {
     "background_save": true
    },
    "id": "Vt09Ubuz2SPB"
   },
   "outputs": [
    {
     "name": "stdout",
     "output_type": "stream",
     "text": [
      "   A+B\n",
      "0   11\n",
      "1   22\n",
      "2   33\n",
      "3   44\n",
      "4   55\n"
     ]
    }
   ],
   "source": [
    "# Crear un nuevo DataFrame con la suma de las columnas A y B\n",
    "df_suma = pd.DataFrame({'A+B': df['A'] + df['B']})\n",
    "print(df_suma)"
   ]
  },
  {
   "cell_type": "markdown",
   "metadata": {
    "id": "kiGSKVE6VJ8m"
   },
   "source": [
    "Crear y asignar valores:\n",
    "\n",
    "1 arreglo) Numeros_3 = range(51,70,2)\n",
    "\n",
    "2 arreglo) Numeros_4 = range(1,15,3)\n",
    "\n",
    "Usar esos arreglos para crear las correspondientes Series de Pandas."
   ]
  },
  {
   "cell_type": "code",
   "execution_count": null,
   "metadata": {
    "id": "FJxaoNZ52kro"
   },
   "outputs": [
    {
     "name": "stdout",
     "output_type": "stream",
     "text": [
      "0    51\n",
      "1    53\n",
      "2    55\n",
      "3    57\n",
      "4    59\n",
      "5    61\n",
      "6    63\n",
      "7    65\n",
      "8    67\n",
      "9    69\n",
      "dtype: int64\n",
      "0     1\n",
      "1     4\n",
      "2     7\n",
      "3    10\n",
      "4    13\n",
      "dtype: int64\n"
     ]
    }
   ],
   "source": [
    "Numeros_3 = range(51,70,2)\n",
    "Numeros_4 = range(1,15,3)\n",
    "\n",
    "serie_3 = pd.Series(Numeros_3)\n",
    "serie_4 = pd.Series(Numeros_4)\n",
    "print(serie_3)\n",
    "print(serie_4)\n",
    "\n"
   ]
  },
  {
   "cell_type": "markdown",
   "metadata": {
    "id": "qjXW4PIkWHHl"
   },
   "source": [
    "Crear una serie llamada \"numeros_nan\", resultado de multiplicar las 2 series creadas en el ejercicio anterior."
   ]
  },
  {
   "cell_type": "code",
   "execution_count": null,
   "metadata": {
    "id": "rm65RtBq2uDg"
   },
   "outputs": [
    {
     "name": "stdout",
     "output_type": "stream",
     "text": [
      "0     51.0\n",
      "1    212.0\n",
      "2    385.0\n",
      "3    570.0\n",
      "4    767.0\n",
      "5      NaN\n",
      "6      NaN\n",
      "7      NaN\n",
      "8      NaN\n",
      "9      NaN\n",
      "dtype: float64\n"
     ]
    }
   ],
   "source": [
    "numeros_nan = pd.Series(serie_3.multiply(serie_4))\n",
    "print(numeros_nan)"
   ]
  },
  {
   "cell_type": "markdown",
   "metadata": {
    "id": "FTBczeK-Wgqv"
   },
   "source": [
    "Multiplicar un numpy.nan * otro número cualquiera"
   ]
  },
  {
   "cell_type": "code",
   "execution_count": null,
   "metadata": {
    "id": "R7_wXQUL3mZd"
   },
   "outputs": [
    {
     "name": "stdout",
     "output_type": "stream",
     "text": [
      "nan\n"
     ]
    }
   ],
   "source": [
    "resultado = np.nan * 5\n",
    "print(resultado)  # El resultado será nan"
   ]
  },
  {
   "cell_type": "markdown",
   "metadata": {
    "id": "vrfVjHyfWiOG"
   },
   "source": [
    "Sumar un numpy.nan * otro número cualquiera"
   ]
  },
  {
   "cell_type": "code",
   "execution_count": null,
   "metadata": {
    "id": "t0HN3IZy3vmy"
   },
   "outputs": [
    {
     "name": "stdout",
     "output_type": "stream",
     "text": [
      "nan\n"
     ]
    }
   ],
   "source": [
    "suma = np.nan + 5\n",
    "print(suma)  # El resultado será nan"
   ]
  },
  {
   "cell_type": "markdown",
   "metadata": {
    "id": "hanCs0SbWlbh"
   },
   "source": [
    "Multiplicar varios números enteros, usando el método nanprod. Ver qué pasa si uno de esos valores enteros se reemplaza por np.nan"
   ]
  },
  {
   "cell_type": "code",
   "execution_count": 25,
   "metadata": {
    "id": "C7Grb9Gi30FL"
   },
   "outputs": [
    {
     "name": "stdout",
     "output_type": "stream",
     "text": [
      "24\n",
      "8.0\n"
     ]
    }
   ],
   "source": [
    "valores = [2, 3, 4]\n",
    "producto = np.nanprod(valores)\n",
    "print(producto)  # Resultado: 24\n",
    "\n",
    "# Reemplazar uno de los valores por np.nan\n",
    "valores_con_nan = [2, np.nan, 4]\n",
    "producto_nan = np.nanprod(valores_con_nan)\n",
    "print(producto_nan)  # Resultado: 8 (ignora el nan)"
   ]
  },
  {
   "cell_type": "markdown",
   "metadata": {
    "id": "JCHcmlV6W5_j"
   },
   "source": [
    "Sumar varios números enteros, usando el método nanprod. Ver qué pasa si uno de esos valores enteros se reemplaza por np.nan"
   ]
  },
  {
   "cell_type": "code",
   "execution_count": 26,
   "metadata": {
    "id": "pyP3IuUD39o9"
   },
   "outputs": [
    {
     "name": "stdout",
     "output_type": "stream",
     "text": [
      "9\n",
      "6.0\n"
     ]
    }
   ],
   "source": [
    "valores = [2, 3, 4]\n",
    "suma = np.nansum(valores)\n",
    "print(suma)  # Resultado: 9\n",
    "\n",
    "# Reemplazar uno de los valores por np.nan\n",
    "valores_con_nan = [2, np.nan, 4]\n",
    "suma_nan = np.nansum(valores_con_nan)\n",
    "print(suma_nan)  # Resultado: 6 (ignora el nan)"
   ]
  },
  {
   "cell_type": "markdown",
   "metadata": {
    "id": "cb28itkMW-QC"
   },
   "source": [
    "verificar qué valor es null en el data frame numeros_nan"
   ]
  },
  {
   "cell_type": "code",
   "execution_count": 27,
   "metadata": {
    "id": "9Qr_exQE4PJV"
   },
   "outputs": [
    {
     "name": "stdout",
     "output_type": "stream",
     "text": [
      "0    False\n",
      "1    False\n",
      "2    False\n",
      "3    False\n",
      "4    False\n",
      "5     True\n",
      "6     True\n",
      "7     True\n",
      "8     True\n",
      "9     True\n",
      "dtype: bool\n"
     ]
    }
   ],
   "source": [
    "# Verificar qué valor es null en el data frame numeros_nan\n",
    "print(numeros_nan.isnull())"
   ]
  },
  {
   "cell_type": "markdown",
   "metadata": {
    "id": "2T7TmyfTXMPK"
   },
   "source": [
    "Con el método fillna, reemplazar los valores vacíos por el entero 23."
   ]
  },
  {
   "cell_type": "code",
   "execution_count": 28,
   "metadata": {
    "id": "QjitJn6v4Tml"
   },
   "outputs": [
    {
     "name": "stdout",
     "output_type": "stream",
     "text": [
      "0     51.0\n",
      "1    212.0\n",
      "2    385.0\n",
      "3    570.0\n",
      "4    767.0\n",
      "5     23.0\n",
      "6     23.0\n",
      "7     23.0\n",
      "8     23.0\n",
      "9     23.0\n",
      "dtype: float64\n"
     ]
    }
   ],
   "source": [
    "# Reemplazar los valores vacíos (NaN) por el entero 23 usando fillna\n",
    "numeros_nan_lleno = numeros_nan.fillna(23)\n",
    "print(numeros_nan_lleno)"
   ]
  },
  {
   "cell_type": "markdown",
   "metadata": {
    "id": "_S9i9XUVXU2-"
   },
   "source": [
    "Usar el método dropna para eliminar los valores vacíos del data frame numeros_nan"
   ]
  },
  {
   "cell_type": "code",
   "execution_count": 29,
   "metadata": {
    "id": "mxTCmZci4Yn2"
   },
   "outputs": [
    {
     "name": "stdout",
     "output_type": "stream",
     "text": [
      "0     51.0\n",
      "1    212.0\n",
      "2    385.0\n",
      "3    570.0\n",
      "4    767.0\n",
      "dtype: float64\n"
     ]
    }
   ],
   "source": [
    "numeros_nan_vacios = numeros_nan.dropna()\n",
    "print(numeros_nan_vacios)"
   ]
  }
 ],
 "metadata": {
  "colab": {
   "provenance": []
  },
  "kernelspec": {
   "display_name": ".venv",
   "language": "python",
   "name": "python3"
  },
  "language_info": {
   "codemirror_mode": {
    "name": "ipython",
    "version": 3
   },
   "file_extension": ".py",
   "mimetype": "text/x-python",
   "name": "python",
   "nbconvert_exporter": "python",
   "pygments_lexer": "ipython3",
   "version": "3.13.7"
  }
 },
 "nbformat": 4,
 "nbformat_minor": 0
}
