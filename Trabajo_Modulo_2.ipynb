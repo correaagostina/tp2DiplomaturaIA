{
  "cells": [
    {
      "cell_type": "markdown",
      "metadata": {
        "id": "meUM9mydcdx7"
      },
      "source": [
        "### Trabajo Modulo 2"
      ]
    },
    {
      "cell_type": "markdown",
      "metadata": {
        "id": "JKUC_UEWcd0f"
      },
      "source": [
        "Llegamos al final del modulo 2 y estamos en condiciones de analizar un dataset, entrenar un primer modelo (en este caso de clasificacion) y evaluar resultados."
      ]
    },
    {
      "cell_type": "markdown",
      "metadata": {
        "id": "oK7rXLZccgu0"
      },
      "source": [
        "En este proyecto trabajaran con un dataset que contiene informacion sobre personas, el objetivo es crear un modelo que permita predecir si la persona es fumadora o no."
      ]
    },
    {
      "cell_type": "markdown",
      "metadata": {
        "id": "AJV9dto_cgxw"
      },
      "source": [
        "Podran acceder al conjunto de datos en el siguiente enlace: https://docs.google.com/spreadsheets/d/1335AaFI1WufJkv56b9u-JwdLKifenolp/edit?usp=sharing&ouid=107760286087613309815&rtpof=true&sd=true"
      ]
    },
    {
      "cell_type": "markdown",
      "metadata": {
        "id": "JhNvj1U-cg0V"
      },
      "source": [
        "### Entrega"
      ]
    },
    {
      "cell_type": "markdown",
      "metadata": {
        "id": "kIrcmvYlcg3G"
      },
      "source": [
        "Deberan adjuntar una notebook tipo \"informe\" donde se incluya: carga de datos, limpieza y manipulacion de los mismos, EDA, feature selection, entrenamiento y evaluacion de modelos, conclusiones."
      ]
    },
    {
      "cell_type": "markdown",
      "metadata": {
        "id": "zFeVFXcecg5-"
      },
      "source": [
        "Tambien deberan descargar los siguientes datos: https://docs.google.com/spreadsheets/d/1dpTMd0R0-YJ6psx8egWNR-IL5g6QPraL/edit?usp=sharing&ouid=107760286087613309815&rtpof=true&sd=true\n",
        "\n",
        "\n",
        "Y realizar una prediccion con el que consideren su mejor modelo y adjuntarlas incluyendo dicha prediccion en una variable nueva al final del dataset llamada \"Smoking\".\n"
      ]
    },
    {
      "cell_type": "markdown",
      "metadata": {},
      "source": [
        "Solucion de TP"
      ]
    },
    {
      "cell_type": "code",
      "execution_count": 8,
      "metadata": {},
      "outputs": [],
      "source": [
        "import pandas as pd\n",
        "import numpy as np\n",
        "import seaborn as sns\n",
        "import matplotlib.pyplot as plt"
      ]
    },
    {
      "cell_type": "code",
      "execution_count": 10,
      "metadata": {},
      "outputs": [
        {
          "data": {
            "text/html": [
              "<div>\n",
              "<style scoped>\n",
              "    .dataframe tbody tr th:only-of-type {\n",
              "        vertical-align: middle;\n",
              "    }\n",
              "\n",
              "    .dataframe tbody tr th {\n",
              "        vertical-align: top;\n",
              "    }\n",
              "\n",
              "    .dataframe thead th {\n",
              "        text-align: right;\n",
              "    }\n",
              "</style>\n",
              "<table border=\"1\" class=\"dataframe\">\n",
              "  <thead>\n",
              "    <tr style=\"text-align: right;\">\n",
              "      <th></th>\n",
              "      <th>ID</th>\n",
              "      <th>gender</th>\n",
              "      <th>age</th>\n",
              "      <th>height(cm)</th>\n",
              "      <th>weight(kg)</th>\n",
              "      <th>waist(cm)</th>\n",
              "      <th>eyesight(left)</th>\n",
              "      <th>eyesight(right)</th>\n",
              "      <th>hearing(left)</th>\n",
              "      <th>hearing(right)</th>\n",
              "      <th>...</th>\n",
              "      <th>hemoglobin</th>\n",
              "      <th>Urine protein</th>\n",
              "      <th>serum creatinine</th>\n",
              "      <th>AST</th>\n",
              "      <th>ALT</th>\n",
              "      <th>Gtp</th>\n",
              "      <th>oral</th>\n",
              "      <th>dental caries</th>\n",
              "      <th>tartar</th>\n",
              "      <th>smoking</th>\n",
              "    </tr>\n",
              "  </thead>\n",
              "  <tbody>\n",
              "    <tr>\n",
              "      <th>0</th>\n",
              "      <td>0</td>\n",
              "      <td>F</td>\n",
              "      <td>40</td>\n",
              "      <td>155</td>\n",
              "      <td>60</td>\n",
              "      <td>3.38</td>\n",
              "      <td>0.04</td>\n",
              "      <td>0.04</td>\n",
              "      <td>0.04</td>\n",
              "      <td>0.04</td>\n",
              "      <td>...</td>\n",
              "      <td>0.51</td>\n",
              "      <td>0.04</td>\n",
              "      <td>0.00</td>\n",
              "      <td>0.75</td>\n",
              "      <td>0.79</td>\n",
              "      <td>1.13</td>\n",
              "      <td>Y</td>\n",
              "      <td>0</td>\n",
              "      <td>Y</td>\n",
              "      <td>0</td>\n",
              "    </tr>\n",
              "    <tr>\n",
              "      <th>1</th>\n",
              "      <td>1</td>\n",
              "      <td>F</td>\n",
              "      <td>40</td>\n",
              "      <td>160</td>\n",
              "      <td>60</td>\n",
              "      <td>3.38</td>\n",
              "      <td>0.01</td>\n",
              "      <td>0.00</td>\n",
              "      <td>0.04</td>\n",
              "      <td>0.04</td>\n",
              "      <td>...</td>\n",
              "      <td>0.50</td>\n",
              "      <td>0.04</td>\n",
              "      <td>0.00</td>\n",
              "      <td>0.92</td>\n",
              "      <td>0.79</td>\n",
              "      <td>0.75</td>\n",
              "      <td>Y</td>\n",
              "      <td>0</td>\n",
              "      <td>Y</td>\n",
              "      <td>0</td>\n",
              "    </tr>\n",
              "    <tr>\n",
              "      <th>2</th>\n",
              "      <td>2</td>\n",
              "      <td>M</td>\n",
              "      <td>55</td>\n",
              "      <td>170</td>\n",
              "      <td>60</td>\n",
              "      <td>3.33</td>\n",
              "      <td>0.01</td>\n",
              "      <td>0.01</td>\n",
              "      <td>0.04</td>\n",
              "      <td>0.04</td>\n",
              "      <td>...</td>\n",
              "      <td>0.63</td>\n",
              "      <td>0.04</td>\n",
              "      <td>0.04</td>\n",
              "      <td>0.88</td>\n",
              "      <td>0.67</td>\n",
              "      <td>0.92</td>\n",
              "      <td>Y</td>\n",
              "      <td>0</td>\n",
              "      <td>N</td>\n",
              "      <td>1</td>\n",
              "    </tr>\n",
              "    <tr>\n",
              "      <th>3</th>\n",
              "      <td>3</td>\n",
              "      <td>M</td>\n",
              "      <td>40</td>\n",
              "      <td>165</td>\n",
              "      <td>70</td>\n",
              "      <td>3.67</td>\n",
              "      <td>0.05</td>\n",
              "      <td>0.05</td>\n",
              "      <td>0.04</td>\n",
              "      <td>0.04</td>\n",
              "      <td>...</td>\n",
              "      <td>0.59</td>\n",
              "      <td>0.04</td>\n",
              "      <td>0.04</td>\n",
              "      <td>0.79</td>\n",
              "      <td>1.08</td>\n",
              "      <td>0.75</td>\n",
              "      <td>Y</td>\n",
              "      <td>0</td>\n",
              "      <td>Y</td>\n",
              "      <td>0</td>\n",
              "    </tr>\n",
              "    <tr>\n",
              "      <th>4</th>\n",
              "      <td>4</td>\n",
              "      <td>F</td>\n",
              "      <td>40</td>\n",
              "      <td>155</td>\n",
              "      <td>60</td>\n",
              "      <td>3.58</td>\n",
              "      <td>0.04</td>\n",
              "      <td>0.04</td>\n",
              "      <td>0.04</td>\n",
              "      <td>0.04</td>\n",
              "      <td>...</td>\n",
              "      <td>0.50</td>\n",
              "      <td>0.04</td>\n",
              "      <td>0.00</td>\n",
              "      <td>0.67</td>\n",
              "      <td>0.58</td>\n",
              "      <td>0.92</td>\n",
              "      <td>Y</td>\n",
              "      <td>0</td>\n",
              "      <td>N</td>\n",
              "      <td>0</td>\n",
              "    </tr>\n",
              "  </tbody>\n",
              "</table>\n",
              "<p>5 rows × 27 columns</p>\n",
              "</div>"
            ],
            "text/plain": [
              "   ID gender  age  height(cm)  weight(kg)  waist(cm)  eyesight(left)  \\\n",
              "0   0      F   40         155          60       3.38            0.04   \n",
              "1   1      F   40         160          60       3.38            0.01   \n",
              "2   2      M   55         170          60       3.33            0.01   \n",
              "3   3      M   40         165          70       3.67            0.05   \n",
              "4   4      F   40         155          60       3.58            0.04   \n",
              "\n",
              "   eyesight(right)  hearing(left)  hearing(right)  ...  hemoglobin  \\\n",
              "0             0.04           0.04            0.04  ...        0.51   \n",
              "1             0.00           0.04            0.04  ...        0.50   \n",
              "2             0.01           0.04            0.04  ...        0.63   \n",
              "3             0.05           0.04            0.04  ...        0.59   \n",
              "4             0.04           0.04            0.04  ...        0.50   \n",
              "\n",
              "   Urine protein  serum creatinine   AST   ALT   Gtp  oral  dental caries  \\\n",
              "0           0.04              0.00  0.75  0.79  1.13     Y              0   \n",
              "1           0.04              0.00  0.92  0.79  0.75     Y              0   \n",
              "2           0.04              0.04  0.88  0.67  0.92     Y              0   \n",
              "3           0.04              0.04  0.79  1.08  0.75     Y              0   \n",
              "4           0.04              0.00  0.67  0.58  0.92     Y              0   \n",
              "\n",
              "   tartar  smoking  \n",
              "0       Y        0  \n",
              "1       Y        0  \n",
              "2       N        1  \n",
              "3       Y        0  \n",
              "4       N        0  \n",
              "\n",
              "[5 rows x 27 columns]"
            ]
          },
          "execution_count": 10,
          "metadata": {},
          "output_type": "execute_result"
        }
      ],
      "source": [
        "df = pd.read_csv(\"smoking_prediction.xlsx - smoking_prediction.csv\")\n",
        "df.head()"
      ]
    },
    {
      "cell_type": "code",
      "execution_count": 11,
      "metadata": {},
      "outputs": [
        {
          "data": {
            "text/plain": [
              "(50000, 27)"
            ]
          },
          "execution_count": 11,
          "metadata": {},
          "output_type": "execute_result"
        }
      ],
      "source": [
        "df.shape"
      ]
    },
    {
      "cell_type": "code",
      "execution_count": 12,
      "metadata": {},
      "outputs": [
        {
          "name": "stdout",
          "output_type": "stream",
          "text": [
            "<class 'pandas.core.frame.DataFrame'>\n",
            "RangeIndex: 50000 entries, 0 to 49999\n",
            "Data columns (total 27 columns):\n",
            " #   Column               Non-Null Count  Dtype  \n",
            "---  ------               --------------  -----  \n",
            " 0   ID                   50000 non-null  int64  \n",
            " 1   gender               50000 non-null  object \n",
            " 2   age                  50000 non-null  int64  \n",
            " 3   height(cm)           50000 non-null  int64  \n",
            " 4   weight(kg)           50000 non-null  int64  \n",
            " 5   waist(cm)            50000 non-null  float64\n",
            " 6   eyesight(left)       50000 non-null  float64\n",
            " 7   eyesight(right)      50000 non-null  float64\n",
            " 8   hearing(left)        50000 non-null  float64\n",
            " 9   hearing(right)       50000 non-null  float64\n",
            " 10  systolic             50000 non-null  float64\n",
            " 11  relaxation           50000 non-null  float64\n",
            " 12  fasting blood sugar  50000 non-null  float64\n",
            " 13  Cholesterol          50000 non-null  float64\n",
            " 14  triglyceride         50000 non-null  float64\n",
            " 15  HDL                  50000 non-null  float64\n",
            " 16  LDL                  50000 non-null  float64\n",
            " 17  hemoglobin           50000 non-null  float64\n",
            " 18  Urine protein        50000 non-null  float64\n",
            " 19  serum creatinine     50000 non-null  float64\n",
            " 20  AST                  50000 non-null  float64\n",
            " 21  ALT                  50000 non-null  float64\n",
            " 22  Gtp                  50000 non-null  float64\n",
            " 23  oral                 50000 non-null  object \n",
            " 24  dental caries        50000 non-null  int64  \n",
            " 25  tartar               50000 non-null  object \n",
            " 26  smoking              50000 non-null  int64  \n",
            "dtypes: float64(18), int64(6), object(3)\n",
            "memory usage: 10.3+ MB\n"
          ]
        }
      ],
      "source": [
        "df.info()"
      ]
    },
    {
      "cell_type": "code",
      "execution_count": 15,
      "metadata": {},
      "outputs": [
        {
          "data": {
            "text/plain": [
              "ID                     0.0\n",
              "gender                 0.0\n",
              "age                    0.0\n",
              "height(cm)             0.0\n",
              "weight(kg)             0.0\n",
              "waist(cm)              0.0\n",
              "eyesight(left)         0.0\n",
              "eyesight(right)        0.0\n",
              "hearing(left)          0.0\n",
              "hearing(right)         0.0\n",
              "systolic               0.0\n",
              "relaxation             0.0\n",
              "fasting blood sugar    0.0\n",
              "Cholesterol            0.0\n",
              "triglyceride           0.0\n",
              "HDL                    0.0\n",
              "LDL                    0.0\n",
              "hemoglobin             0.0\n",
              "Urine protein          0.0\n",
              "serum creatinine       0.0\n",
              "AST                    0.0\n",
              "ALT                    0.0\n",
              "Gtp                    0.0\n",
              "oral                   0.0\n",
              "dental caries          0.0\n",
              "tartar                 0.0\n",
              "smoking                0.0\n",
              "dtype: float64"
            ]
          },
          "execution_count": 15,
          "metadata": {},
          "output_type": "execute_result"
        }
      ],
      "source": [
        "##Chequeo de valores nulos\n",
        "df.isna().sum()/df.shape[0]*100"
      ]
    }
  ],
  "metadata": {
    "colab": {
      "provenance": []
    },
    "kernelspec": {
      "display_name": ".venv",
      "language": "python",
      "name": "python3"
    },
    "language_info": {
      "codemirror_mode": {
        "name": "ipython",
        "version": 3
      },
      "file_extension": ".py",
      "mimetype": "text/x-python",
      "name": "python",
      "nbconvert_exporter": "python",
      "pygments_lexer": "ipython3",
      "version": "3.13.7"
    }
  },
  "nbformat": 4,
  "nbformat_minor": 0
}
