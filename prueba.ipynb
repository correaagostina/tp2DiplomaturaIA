{
 "cells": [
  {
   "cell_type": "code",
   "execution_count": 1,
   "id": "d9369e4c-6ef4-4daf-b13e-59614322febd",
   "metadata": {},
   "outputs": [
    {
     "name": "stdout",
     "output_type": "stream",
     "text": [
      "prueba\n"
     ]
    }
   ],
   "source": [
    "print(\"prueba\")"
   ]
  },
  {
   "cell_type": "code",
   "execution_count": null,
   "id": "3091c3d4-9f58-40d5-bb42-4ec1c10ade8f",
   "metadata": {},
   "outputs": [],
   "source": []
  },
  {
   "cell_type": "code",
   "execution_count": null,
   "id": "320d2af9-4910-4936-8b67-daf78dd3d1c9",
   "metadata": {},
   "outputs": [],
   "source": []
  }
 ],
 "metadata": {
  "kernelspec": {
   "display_name": "Python 3",
   "language": "python",
   "name": "python3"
  },
  "language_info": {
   "codemirror_mode": {
    "name": "ipython",
    "version": 3
   },
   "file_extension": ".py",
   "mimetype": "text/x-python",
   "name": "python",
   "nbconvert_exporter": "python",
   "pygments_lexer": "ipython3",
   "version": "3.13.7"
  }
 },
 "nbformat": 4,
 "nbformat_minor": 5
}
